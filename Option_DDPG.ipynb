{
  "nbformat": 4,
  "nbformat_minor": 0,
  "metadata": {
    "colab": {
      "name": "Option_DDPG.ipynb",
      "provenance": [],
      "collapsed_sections": []
    },
    "kernelspec": {
      "name": "python3",
      "display_name": "Python 3"
    }
  },
  "cells": [
    {
      "cell_type": "code",
      "metadata": {
        "id": "j5XEbM6warfS",
        "colab_type": "code",
        "outputId": "0d39070c-31b4-4ddd-e299-7183a56ee669",
        "colab": {
          "base_uri": "https://localhost:8080/",
          "height": 54
        }
      },
      "source": [
        "!pip install cpprb"
      ],
      "execution_count": 0,
      "outputs": [
        {
          "output_type": "stream",
          "text": [
            "Requirement already satisfied: cpprb in /usr/local/lib/python3.6/dist-packages (8.4.2)\n",
            "Requirement already satisfied: numpy in /usr/local/lib/python3.6/dist-packages (from cpprb) (1.18.2)\n"
          ],
          "name": "stdout"
        }
      ]
    },
    {
      "cell_type": "code",
      "metadata": {
        "id": "lmm-kWYia_7V",
        "colab_type": "code",
        "colab": {}
      },
      "source": [
        "import numpy as np\n",
        "import tensorflow as tf\n",
        "from tensorflow.keras.layers import Dense\n",
        "from cpprb import ReplayBuffer\n",
        "import time\n",
        "import matplotlib.pyplot as plt\n",
        "import pandas as pd\n",
        "from scipy.stats import norm"
      ],
      "execution_count": 0,
      "outputs": []
    },
    {
      "cell_type": "code",
      "metadata": {
        "id": "LsM--XlIbCmy",
        "colab_type": "code",
        "colab": {}
      },
      "source": [
        "class Actor(tf.keras.Model):\n",
        "  '''Policy'''\n",
        "  def __init__(self, state_shape, action_dim, max_action, name='Actor'):\n",
        "    super().__init__(name=name)\n",
        "\n",
        "    self.l1 = Dense(300, name='L1', activation='relu')\n",
        "    self.l2 = Dense(200, name='L2', activation='relu')\n",
        "    self.l3 = Dense(action_dim, name='L3', activation='tanh')\n",
        "\n",
        "    self.max_action = max_action\n",
        "\n",
        "    # Build model\n",
        "    self(tf.constant(np.zeros(shape=(1,)+state_shape, dtype=np.float32))) \n",
        "  \n",
        "  def call(self, inputs):\n",
        "    features = self.l1(inputs)\n",
        "    features = self.l2(features)\n",
        "    features = self.l3(features)\n",
        "    action = self.max_action * features\n",
        "    return action\n",
        "class Critic(tf.keras.Model):\n",
        "  '''Q-function'''\n",
        "  def __init__(self, state_shape, action_dim, name='Critic'):\n",
        "    super().__init__(name=name)\n",
        "\n",
        "    self.l1 = Dense(300, name='L1', activation='relu')\n",
        "    self.l2 = Dense(200, name='L2', activation='relu')\n",
        "    self.l3 = Dense(1, name='L3')\n",
        "\n",
        "    # Build model\n",
        "    dummy_state = tf.constant(np.zeros(shape=(1,)+state_shape, dtype=np.float32))\n",
        "    dummy_action = tf.constant(np.zeros(shape=(1,action_dim), dtype=np.float32))\n",
        "    self([dummy_state, dummy_action])\n",
        "\n",
        "  def call(self, inputs):\n",
        "    states, actions = inputs\n",
        "    features = tf.concat([states, actions], axis=1)\n",
        "    features = self.l1(features)\n",
        "    features = self.l2(features)\n",
        "    features = self.l3(features)\n",
        "    return features "
      ],
      "execution_count": 0,
      "outputs": []
    },
    {
      "cell_type": "code",
      "metadata": {
        "id": "IvkBZKyMbHcq",
        "colab_type": "code",
        "colab": {}
      },
      "source": [
        "class DDPG(tf.keras.Model):\n",
        "  def __init__(self, \n",
        "               state_shape, \n",
        "               action_dim, \n",
        "               name='DDPG', \n",
        "               max_action=1, \n",
        "               lr_actor=1e-3, \n",
        "               lr_critic=1e-3, \n",
        "               sigma=.1, \n",
        "               tau=5e-3,\n",
        "               n_warmup=int(1e4), \n",
        "               memory_capacity=int(1e6),\n",
        "               gamma = 1.,\n",
        "               huber_loss_delta=10.):\n",
        "    super().__init__(name=name)\n",
        "    self.memory_capacity = memory_capacity\n",
        "    self.n_warmup = n_warmup\n",
        "\n",
        "    # Define and initialize Actor network\n",
        "    self.actor = Actor(state_shape, action_dim, max_action)\n",
        "    self.actor_target = Actor(state_shape, action_dim, max_action)\n",
        "    self.actor_optimizer = tf.keras.optimizers.Adam(learning_rate=lr_actor)\n",
        "    self.update_target_variables(self.actor_target.weights, self.actor.weights, tau=1.)\n",
        "\n",
        "    # Define and initialize Critic network\n",
        "    self.critic = Critic(state_shape, action_dim)\n",
        "    self.critic_target = Critic(state_shape, action_dim)\n",
        "    self.critic_optimizer = tf.keras.optimizers.Adam(learning_rate=lr_critic)\n",
        "    self.update_target_variables(self.critic_target.weights, self.critic.weights, tau=1.)\n",
        "\n",
        "    # Hyperparameters\n",
        "    self.sigma = sigma  # Explore level\n",
        "    self.gamma = gamma\n",
        "    self.tau = tau\n",
        "    self.huber_loss_delta = huber_loss_delta\n",
        "\n",
        "  def get_action(self, state, test=False):\n",
        "    is_single_state = len(state.shape) == 1\n",
        "    if is_single_state:\n",
        "      state = np.expand_dims(state, axis=0).astype(np.float32)\n",
        "      # state = state[:,np.newaxis].astype(np.float32)\n",
        "    action = self._get_action_body(tf.constant(state), self.sigma * (1. - test),\n",
        "                                    tf.constant(self.actor.max_action, dtype=tf.float32))\n",
        "    return action.numpy()[0] if is_single_state else action.numpy()\n",
        "    \n",
        "  @tf.function\n",
        "  def _get_action_body(self, state, sigma, max_action):\n",
        "    action = self.actor(state)\n",
        "    action += tf.random.normal(shape=action.shape, \n",
        "                                mean=0., stddev=sigma, dtype=tf.float32)\n",
        "    return tf.clip_by_value(action, -max_action, max_action)\n",
        "  \n",
        "  def train(self, states, actions, next_states, rewards, done):\n",
        "    actor_loss, critic_loss, td_errors = self._train_body(\n",
        "        states, actions, next_states, rewards, done)\n",
        "    return td_errors\n",
        "\n",
        "  @tf.function\n",
        "  def _train_body(self, states, actions, next_states, rewards, done):\n",
        "    with tf.GradientTape() as tape:\n",
        "      td_errors = self._compute_td_error_body(\n",
        "          states, actions, next_states, rewards, done)\n",
        "      critic_loss = tf.reduce_mean(\n",
        "          self.huber_loss(td_errors, self.huber_loss_delta)\n",
        "      )\n",
        "    \n",
        "    # Update parameters in Critic network\n",
        "    critic_grad = tape.gradient(critic_loss, self.critic.trainable_variables)\n",
        "    self.critic_optimizer.apply_gradients(\n",
        "        zip(critic_grad, self.critic.trainable_variables)\n",
        "    )\n",
        "\n",
        "    with tf.GradientTape() as tape:\n",
        "      next_action = self.actor(states)\n",
        "      actor_loss = -tf.reduce_mean(self.critic([states, next_action]))\n",
        "\n",
        "    # Update parameters in Actor network\n",
        "    actor_grad = tape.gradient(actor_loss, self.actor.trainable_variables)\n",
        "    self.actor_optimizer.apply_gradients(\n",
        "        zip(actor_grad, self.actor.trainable_variables)\n",
        "    )\n",
        "\n",
        "    # Update target networks\n",
        "    self.update_target_variables(self.critic_target.weights, self.critic.weights, self.tau)\n",
        "    self.update_target_variables(self.actor_target.weights, self.actor.weights, self.tau)\n",
        "    \n",
        "    return actor_loss, critic_loss, td_errors\n",
        "\n",
        "  @tf.function\n",
        "  def _compute_td_error_body(self, states, actions, next_states, rewards, dones):\n",
        "    target_Q = self.critic_target([next_states, self.actor_target(next_states)])\n",
        "    target_Q = rewards + ((1. - dones) * self.gamma * target_Q)\n",
        "    target_Q = tf.stop_gradient(target_Q) # 防止在求梯度时改变target_Q的数值\n",
        "    current_Q = self.critic([states, actions])\n",
        "    td_errors = target_Q - current_Q\n",
        "    return td_errors\n",
        "\n",
        "\n",
        "  def update_target_variables(self, target_vars, source_vars, tau=1.):\n",
        "    '''\n",
        "    Returns an op to update a list of target variables from source variables.\n",
        "    '''\n",
        "    def update_op(target_vars, source_vars, tau):\n",
        "      if tau == 1.:\n",
        "        return target_vars.assign(source_vars)\n",
        "      else:\n",
        "        return target_vars.assign(tau * source_vars + (1 - tau) * target_vars)\n",
        "    update_ops = [update_op(target_var, source_var, tau) \n",
        "                  for target_var, source_var in zip(target_vars, source_vars)]\n",
        "    return tf.group(name='update_all_variables', *update_ops)\n",
        "\n",
        "  def huber_loss(self, x, delta=1.):\n",
        "    '''\n",
        "    Compute the huber loss similar with (MSE + MAE)\n",
        "    '''\n",
        "    delta = tf.ones_like(x) * delta\n",
        "    less_than_max = .5 * tf.square(x)\n",
        "    greater_than_max = delta * (tf.abs(x) - .5 * delta)\n",
        "    return tf.where(tf.abs(x) <= delta, x=less_than_max, y=greater_than_max)"
      ],
      "execution_count": 0,
      "outputs": []
    },
    {
      "cell_type": "code",
      "metadata": {
        "id": "9_zMU9NZhqj5",
        "colab_type": "code",
        "colab": {}
      },
      "source": [
        "class Env:\n",
        "  def __init__(self, s_mu=0.03, s_sigma=0.15, M=.3, s0=10, K=10, r=0.02, lam=.01):\n",
        "    self.s_mu = s_mu\n",
        "    self.s_sigma = s_sigma\n",
        "    self.M = M\n",
        "    self.s0 = s0\n",
        "    self.r = r\n",
        "    self.K = K\n",
        "    self.T = int(M * 365)\n",
        "    self.delta_t = M / T\n",
        "    self.gamma = np.exp(-self.r * self.delta_t)\n",
        "    self.lam =lam\n",
        "    self.s_price = None\n",
        "    self.payoff = None\n",
        "    # self.observation_space = (1,)\n",
        "    self.observation_space = (2,)\n",
        "    self.action_space = (1,)\n",
        "    self.counter = 0\n",
        "\n",
        "  def reset(self):\n",
        "    self.s_price = [s0]\n",
        "    self.counter = 0\n",
        "    for t in range(T):\n",
        "      self.s_price.append(self.s_price[-1] *\\\n",
        "                          np.exp((self.s_mu - .5 * self.s_sigma**2) * self.delta_t +\\\n",
        "                          self.s_sigma * np.sqrt(self.delta_t) * np.random.randn()))\n",
        "    self.s_price = np.array(self.s_price)\n",
        "    self.payoff = np.zeros_like(self.s_price)\n",
        "    self.payoff[-1] = max(self.K - self.s_price[-1], 0)\n",
        "    # return np.array([self.s_price[self.counter+1]])\n",
        "    obs = np.array([self.s_price[self.counter+1], (self.T - self.counter) * self.delta_t])\n",
        "    return obs\n",
        "  \n",
        "  def step(self, action):\n",
        "    self.counter += 1\n",
        "    if self.counter <= T-1:\n",
        "      # reward = action[0] * (self.gamma * self.s_price[self.counter+1] - self.s_price[self.counter]) - self.payoff[self.counter] \n",
        "      reward = action[0] * (self.gamma * self.s_price[self.counter+1] - self.s_price[self.counter])\n",
        "      reward = reward - self.lam * reward**2 - self.payoff[self.counter]\n",
        "      done = False\n",
        "    else:\n",
        "      reward = - self.payoff[self.counter]\n",
        "      done = True\n",
        "    # if done:\n",
        "    #   return np.array([self.s_price[self.counter]]), reward, done, {} \n",
        "    # else:\n",
        "    #   return np.array([self.s_price[self.counter+1]]), reward, done, {} \n",
        "    if done:\n",
        "      obs = np.array([self.s_price[self.counter], (self.T - self.counter) * self.delta_t])\n",
        "    else:\n",
        "      obs = np.array([self.s_price[self.counter+1], (self.T - self.counter) * self.delta_t])\n",
        "    return obs, reward, done, {}\n",
        "\n",
        "  def action_sample(self):\n",
        "    return (np.random.random() * 2 - 1, )"
      ],
      "execution_count": 0,
      "outputs": []
    },
    {
      "cell_type": "code",
      "metadata": {
        "id": "ylJ7f54-69Hy",
        "colab_type": "code",
        "colab": {}
      },
      "source": [
        "def bs_put(t, s0, K, r, sigma, T):\n",
        "  d1 = (np.log(s0 / K) + (r + .5 * sigma**2) * (T - t)) / sigma / np.sqrt(T-t)\n",
        "  d2 = (np.log(s0 / K) + (r - .5 * sigma**2) * (T - t)) / sigma / np.sqrt(T-t)\n",
        "  price = K * np.exp(-r * (T -t)) * norm.cdf(-d2) - s0 * norm.cdf(-d1)\n",
        "  return price"
      ],
      "execution_count": 0,
      "outputs": []
    },
    {
      "cell_type": "code",
      "metadata": {
        "id": "SL35OhJBhL3L",
        "colab_type": "code",
        "colab": {}
      },
      "source": [
        "max_steps = int(2e6)\n",
        "n_warmup = 5000\n",
        "total_steps = 0\n",
        "episode_steps = 0\n",
        "episode_return = 0\n",
        "n_episode = 0\n",
        "\n",
        "batch_size = 100\n",
        "update_interval = 100\n",
        "test_interval = int(1e5)"
      ],
      "execution_count": 0,
      "outputs": []
    },
    {
      "cell_type": "code",
      "metadata": {
        "id": "FQJhQY7t5F_H",
        "colab_type": "code",
        "colab": {}
      },
      "source": [
        "env = Env()\n",
        "rb_kwargs = {\n",
        "    'size' : int(1e6),\n",
        "    'default_dtype' : np.float32,\n",
        "    'env_dict': {\n",
        "        'obs': {'shape': env.observation_space},\n",
        "        'next_obs': {'shape': env.observation_space},\n",
        "        'act': {'shape': env.action_space},\n",
        "        'rew': {},\n",
        "        'done': {}\n",
        "    }\n",
        "}\n",
        "replay_buffer = ReplayBuffer(**rb_kwargs)\n",
        "bs_price = bs_put(0, env.s0, env.K, env.r, env.s_sigma, env.M)\n",
        "ddpg = DDPG(state_shape=env.observation_space,\n",
        "            action_dim=env.action_space[0],\n",
        "            max_action=1)"
      ],
      "execution_count": 0,
      "outputs": []
    },
    {
      "cell_type": "code",
      "metadata": {
        "id": "Lt9XyZK3fL1A",
        "colab_type": "code",
        "outputId": "8aacbeb6-8977-4e51-f83d-5045c145af7e",
        "colab": {
          "base_uri": "https://localhost:8080/",
          "height": 510
        }
      },
      "source": [
        "total_steps = 0\n",
        "obs = env.reset()\n",
        "s0_init = obs\n",
        "diffs = []\n",
        "while total_steps < max_steps:\n",
        "  if total_steps < n_warmup:\n",
        "    action = env.action_sample()\n",
        "  else:\n",
        "    action = ddpg.get_action(obs)\n",
        "  next_obs, reward, done, _ = env.step(action)\n",
        "  episode_steps += 1\n",
        "  episode_return += reward\n",
        "  total_steps += 1\n",
        "  replay_buffer.add(obs=obs, act=action, next_obs=next_obs, rew=reward, done=done)\n",
        "  obs = next_obs\n",
        "  \n",
        "  if done:\n",
        "    obs = env.reset()\n",
        "    n_episode += 1\n",
        "    episode_steps = 0\n",
        "    episode_return = 0\n",
        "  if total_steps < n_warmup:\n",
        "    continue\n",
        "  if total_steps % update_interval == 0:\n",
        "    samples = replay_buffer.sample(batch_size)\n",
        "    ddpg.train(samples['obs'], samples['act'], samples['next_obs'], \n",
        "               samples['rew'], np.array(samples[\"done\"], dtype=np.float32))\n",
        "  if total_steps % test_interval == 0:\n",
        "    test_action = ddpg.get_action(s0_init, test=True)\n",
        "    test_price = -ddpg.critic(([s0_init], [test_action])).numpy().squeeze()\n",
        "    diff = test_price - bs_price\n",
        "    diffs.append(diff)\n",
        "    print('Steps: %d, Difference: %.3f, Option Price: %.3f' %(total_steps, diff, test_price))"
      ],
      "execution_count": 0,
      "outputs": [
        {
          "output_type": "stream",
          "text": [
            "WARNING:tensorflow:Layer Critic is casting an input tensor from dtype float64 to the layer's dtype of float32, which is new behavior in TensorFlow 2.  The layer has dtype float32 because it's dtype defaults to floatx.\n",
            "\n",
            "If you intended to run this layer in float32, you can safely ignore this warning. If in doubt, this warning is likely only an issue if you are porting a TensorFlow 1.X model to TensorFlow 2.\n",
            "\n",
            "To change all layers to have dtype float64 by default, call `tf.keras.backend.set_floatx('float64')`. To change just this layer, pass dtype='float64' to the layer constructor. If you are the author of this layer, you can disable autocasting by passing autocast=False to the base Layer constructor.\n",
            "\n",
            "Steps: 100000, Difference: 0.024, Option Price: 0.322\n",
            "Steps: 200000, Difference: 0.066, Option Price: 0.364\n",
            "Steps: 300000, Difference: 0.040, Option Price: 0.338\n",
            "Steps: 400000, Difference: 0.038, Option Price: 0.336\n",
            "Steps: 500000, Difference: -0.009, Option Price: 0.288\n",
            "Steps: 600000, Difference: 0.026, Option Price: 0.324\n",
            "Steps: 700000, Difference: 0.038, Option Price: 0.335\n",
            "Steps: 800000, Difference: 0.017, Option Price: 0.315\n",
            "Steps: 900000, Difference: -0.004, Option Price: 0.294\n",
            "Steps: 1000000, Difference: 0.004, Option Price: 0.301\n",
            "Steps: 1100000, Difference: 0.007, Option Price: 0.305\n",
            "Steps: 1200000, Difference: 0.024, Option Price: 0.322\n",
            "Steps: 1300000, Difference: 0.005, Option Price: 0.303\n",
            "Steps: 1400000, Difference: -0.012, Option Price: 0.285\n",
            "Steps: 1500000, Difference: -0.015, Option Price: 0.282\n",
            "Steps: 1600000, Difference: -0.019, Option Price: 0.279\n",
            "Steps: 1700000, Difference: -0.015, Option Price: 0.283\n",
            "Steps: 1800000, Difference: -0.024, Option Price: 0.274\n",
            "Steps: 1900000, Difference: -0.022, Option Price: 0.276\n",
            "Steps: 2000000, Difference: -0.029, Option Price: 0.268\n"
          ],
          "name": "stdout"
        }
      ]
    },
    {
      "cell_type": "code",
      "metadata": {
        "id": "rZl7_lJ2Gv1e",
        "colab_type": "code",
        "outputId": "44c5f2e1-a6e8-4431-ccf3-4cd9660d4208",
        "colab": {
          "base_uri": "https://localhost:8080/",
          "height": 513
        }
      },
      "source": [
        "obs = env.reset()\n",
        "done = False\n",
        "step = 0\n",
        "prices_, actions_ = [], []\n",
        "while not done:\n",
        "  action = ddpg.get_action(obs, test=True)\n",
        "  next_obs, reward, done, _ = env.step(action)\n",
        "  obs = next_obs\n",
        "  step += 1\n",
        "  # print(step, obs, action)\n",
        "  prices_.append(obs[0])\n",
        "  actions_.append(action)\n",
        "plt.plot(prices_)\n",
        "plt.show()\n",
        "plt.plot(actions_)\n",
        "plt.show()"
      ],
      "execution_count": 0,
      "outputs": [
        {
          "output_type": "display_data",
          "data": {
            "image/png": "[encoded data removed]",
            "text/plain": [
              "<Figure size 432x288 with 1 Axes>"
            ]
          },
          "metadata": {
            "tags": [],
            "needs_background": "light"
          }
        },
        {
          "output_type": "display_data",
          "data": {
            "image/png": "[encoded data removed]",
            "text/plain": [
              "<Figure size 432x288 with 1 Axes>"
            ]
          },
          "metadata": {
            "tags": [],
            "needs_background": "light"
          }
        }
      ]
    },
    {
      "cell_type": "code",
      "metadata": {
        "colab_type": "code",
        "outputId": "e481c15d-328f-497a-b85f-636ee0909cbe",
        "id": "sGEkZtM0_F5e",
        "colab": {
          "base_uri": "https://localhost:8080/",
          "height": 1000
        }
      },
      "source": [
        "actions_"
      ],
      "execution_count": 0,
      "outputs": [
        {
          "output_type": "execute_result",
          "data": {
            "text/plain": [
              "[array([-0.10114404], dtype=float32),\n",
              " array([-0.10114404], dtype=float32),\n",
              " array([-0.10114404], dtype=float32),\n",
              " array([-0.10114404], dtype=float32),\n",
              " array([-0.10114404], dtype=float32),\n",
              " array([-0.10114404], dtype=float32),\n",
              " array([-0.10114404], dtype=float32),\n",
              " array([-0.10114404], dtype=float32),\n",
              " array([-0.10114404], dtype=float32),\n",
              " array([-0.10114404], dtype=float32),\n",
              " array([-0.10114404], dtype=float32),\n",
              " array([-0.10114404], dtype=float32),\n",
              " array([-0.10114404], dtype=float32),\n",
              " array([-0.10114404], dtype=float32),\n",
              " array([-0.10114404], dtype=float32),\n",
              " array([-0.10114404], dtype=float32),\n",
              " array([-0.10114404], dtype=float32),\n",
              " array([-0.10114404], dtype=float32),\n",
              " array([-0.10114404], dtype=float32),\n",
              " array([-0.10114404], dtype=float32),\n",
              " array([-0.10114404], dtype=float32),\n",
              " array([-0.10114404], dtype=float32),\n",
              " array([-0.10114404], dtype=float32),\n",
              " array([-0.10114404], dtype=float32),\n",
              " array([-0.10114404], dtype=float32),\n",
              " array([-0.10114404], dtype=float32),\n",
              " array([-0.10114404], dtype=float32),\n",
              " array([-0.10114404], dtype=float32),\n",
              " array([-0.10114404], dtype=float32),\n",
              " array([-0.10114404], dtype=float32),\n",
              " array([-0.10114404], dtype=float32),\n",
              " array([-0.10114404], dtype=float32),\n",
              " array([-0.10114404], dtype=float32),\n",
              " array([-0.10114404], dtype=float32),\n",
              " array([-0.10114404], dtype=float32),\n",
              " array([-0.10114404], dtype=float32),\n",
              " array([-0.10114404], dtype=float32),\n",
              " array([-0.10114404], dtype=float32),\n",
              " array([-0.10114404], dtype=float32),\n",
              " array([-0.10114404], dtype=float32),\n",
              " array([-0.10114404], dtype=float32),\n",
              " array([-0.10114404], dtype=float32),\n",
              " array([-0.10114404], dtype=float32),\n",
              " array([-0.10114404], dtype=float32),\n",
              " array([-0.10114404], dtype=float32),\n",
              " array([-0.10114404], dtype=float32),\n",
              " array([-0.10114404], dtype=float32),\n",
              " array([-0.10114404], dtype=float32),\n",
              " array([-0.10114404], dtype=float32),\n",
              " array([-0.10114404], dtype=float32),\n",
              " array([-0.10114404], dtype=float32),\n",
              " array([-0.10114404], dtype=float32),\n",
              " array([-0.10114404], dtype=float32),\n",
              " array([-0.10114404], dtype=float32),\n",
              " array([-0.10114404], dtype=float32),\n",
              " array([-0.10114404], dtype=float32),\n",
              " array([-0.10114404], dtype=float32),\n",
              " array([-0.10114404], dtype=float32),\n",
              " array([-0.10114404], dtype=float32),\n",
              " array([-0.10114404], dtype=float32),\n",
              " array([-0.10114404], dtype=float32),\n",
              " array([-0.10114404], dtype=float32),\n",
              " array([-0.10114404], dtype=float32),\n",
              " array([-0.10114404], dtype=float32),\n",
              " array([-0.10114404], dtype=float32),\n",
              " array([-0.10114404], dtype=float32),\n",
              " array([-0.10114404], dtype=float32),\n",
              " array([-0.10114404], dtype=float32),\n",
              " array([-0.10114404], dtype=float32),\n",
              " array([-0.10114404], dtype=float32),\n",
              " array([-0.10114404], dtype=float32),\n",
              " array([-0.10114404], dtype=float32),\n",
              " array([-0.10114404], dtype=float32),\n",
              " array([-0.10114404], dtype=float32),\n",
              " array([-0.10114404], dtype=float32),\n",
              " array([-0.10114404], dtype=float32),\n",
              " array([-0.10114404], dtype=float32),\n",
              " array([-0.10114404], dtype=float32),\n",
              " array([-0.10114404], dtype=float32),\n",
              " array([-0.10114404], dtype=float32),\n",
              " array([-0.10114404], dtype=float32),\n",
              " array([-0.10114404], dtype=float32),\n",
              " array([-0.10114404], dtype=float32),\n",
              " array([-0.10114404], dtype=float32),\n",
              " array([-0.10114404], dtype=float32),\n",
              " array([-0.10114404], dtype=float32),\n",
              " array([-0.10114404], dtype=float32),\n",
              " array([-0.10114404], dtype=float32),\n",
              " array([-0.10114404], dtype=float32),\n",
              " array([-0.10114404], dtype=float32),\n",
              " array([-0.10114404], dtype=float32),\n",
              " array([-0.10114404], dtype=float32),\n",
              " array([-0.10114404], dtype=float32),\n",
              " array([-0.10114404], dtype=float32),\n",
              " array([-0.10114404], dtype=float32),\n",
              " array([-0.10114404], dtype=float32),\n",
              " array([-0.10114404], dtype=float32),\n",
              " array([-0.10114404], dtype=float32),\n",
              " array([-0.10114404], dtype=float32),\n",
              " array([-0.10114404], dtype=float32),\n",
              " array([-0.10114404], dtype=float32),\n",
              " array([-0.10114404], dtype=float32),\n",
              " array([-0.10114404], dtype=float32),\n",
              " array([-0.10114404], dtype=float32),\n",
              " array([-0.10114404], dtype=float32),\n",
              " array([-0.10114404], dtype=float32),\n",
              " array([-0.10114404], dtype=float32),\n",
              " array([-0.10114404], dtype=float32),\n",
              " array([-0.10114404], dtype=float32)]"
            ]
          },
          "metadata": {
            "tags": []
          },
          "execution_count": 357
        }
      ]
    },
    {
      "cell_type": "code",
      "metadata": {
        "colab_type": "code",
        "outputId": "b48eaf4f-6253-4194-b4b4-56ebc64520bc",
        "id": "GL-DCtv4_E5h",
        "colab": {
          "base_uri": "https://localhost:8080/",
          "height": 35
        }
      },
      "source": [
        "-ddpg.critic(([np.array([11,  0 ])], [np.array([-.5])])).numpy().squeeze()"
      ],
      "execution_count": 0,
      "outputs": [
        {
          "output_type": "execute_result",
          "data": {
            "text/plain": [
              "-0.059229657"
            ]
          },
          "metadata": {
            "tags": []
          },
          "execution_count": 358
        }
      ]
    }
  ]
}